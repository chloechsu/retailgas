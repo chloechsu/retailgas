{
 "cells": [
  {
   "cell_type": "markdown",
   "metadata": {},
   "source": [
    "# 3. Logistic Regression Model for National Gas Price Trend\n",
    "\n",
    "### Table of Contents\n",
    "* Set-up\n",
    "* Binary Classification Problem\n",
    "* Features\n",
    "* Logistic Regression Path\n",
    "* l2 Regularization Parameter\n",
    "* Test in Cross-Validation Period\n",
    "  + Prediction\n",
    "  + Recall\n",
    "  + Accuracy\n",
    "* Comparison to Multivariate Rolling Regression and ARIMA"
   ]
  },
  {
   "cell_type": "markdown",
   "metadata": {},
   "source": [
    "## Set-up"
   ]
  },
  {
   "cell_type": "code",
   "execution_count": 1,
   "metadata": {
    "collapsed": false
   },
   "outputs": [
    {
     "name": "stderr",
     "output_type": "stream",
     "text": [
      "/Users/ChingYunH/anaconda/lib/python2.7/site-packages/statsmodels/compat/pandas.py:56: FutureWarning: The pandas.core.datetools module is deprecated and will be removed in a future version. Please use the pandas.tseries module instead.\n",
      "  from pandas.core import datetools\n"
     ]
    }
   ],
   "source": [
    "import pandas as pd\n",
    "import numpy as np\n",
    "import seaborn as sns\n",
    "import matplotlib\n",
    "import matplotlib.pyplot as plt\n",
    "from statsmodels.tsa.stattools import adfuller, acf, pacf\n",
    "from sklearn.linear_model import logistic_regression_path, LogisticRegression\n",
    "from sklearn.preprocessing import normalize\n",
    "from sklearn.svm import l1_min_c\n",
    "%matplotlib inline"
   ]
  },
  {
   "cell_type": "code",
   "execution_count": 2,
   "metadata": {
    "collapsed": true
   },
   "outputs": [],
   "source": [
    "def custom_read_csv(filename):\n",
    "    df = pd.read_csv(filename)\n",
    "    df['date'] = pd.to_datetime(df['date'])\n",
    "    return df.set_index('date')"
   ]
  },
  {
   "cell_type": "markdown",
   "metadata": {},
   "source": [
    "Read retail gas prices from csv."
   ]
  },
  {
   "cell_type": "code",
   "execution_count": 3,
   "metadata": {
    "collapsed": true
   },
   "outputs": [],
   "source": [
    "# note that all prices are released on Monday, dayofweek = 0\n",
    "national_price = custom_read_csv('national.csv').dropna()\n",
    "state_price = custom_read_csv('state.csv').dropna()\n",
    "state_price = state_price.drop('Unnamed: 10', axis=1).dropna()\n",
    "city_price = custom_read_csv('city.csv').dropna()\n",
    "price = pd.concat([national_price, state_price, city_price], axis=1)"
   ]
  },
  {
   "cell_type": "markdown",
   "metadata": {},
   "source": [
    "The training period is 1992 - 2010. Save 2011 - 2016 for cross-validation."
   ]
  },
  {
   "cell_type": "code",
   "execution_count": 4,
   "metadata": {
    "collapsed": true
   },
   "outputs": [],
   "source": [
    "trainingdates = np.intersect1d(price.index, pd.date_range('1992-01-01','2010-12-31'))"
   ]
  },
  {
   "cell_type": "markdown",
   "metadata": {},
   "source": [
    "## Binary Classification Problem"
   ]
  },
  {
   "cell_type": "markdown",
   "metadata": {},
   "source": [
    "Instead of predicting the retail gas price, consumers are more interested in the directional move.\n",
    "\n",
    "Predicting the directional move can help consumers decide when to fill their gas tanks. The exact value of price change is perhaps not as important, since consumers are unlikely to make a profit from trading retail gas.\n",
    "\n",
    "Therefore, we can frame the problem as binary classification - whether the price goes up or down."
   ]
  },
  {
   "cell_type": "code",
   "execution_count": 5,
   "metadata": {
    "collapsed": true
   },
   "outputs": [],
   "source": [
    "up = ((price.national - price.national.shift(1))).dropna() > 0"
   ]
  },
  {
   "cell_type": "markdown",
   "metadata": {},
   "source": [
    "In this binary classification problem, we don't expect to predict a clear distinction between up and down moves, due to the noise in data. Therefore, logistic regression is a better choice than SVM."
   ]
  },
  {
   "cell_type": "markdown",
   "metadata": {},
   "source": [
    "## Features\n",
    "\n",
    "We include previously selected predictors from the multivariate regression model and the ARIMA model.\n",
    "\n",
    "The features are **log returns** of the following time series:\n",
    "\n",
    "* Gulf Coast gasoline spot price\n",
    "* Gasoline stocks\n",
    "* Retail gas price lagged by 1,2,3 weeks\n",
    "\n",
    "All features are weekly time series."
   ]
  },
  {
   "cell_type": "code",
   "execution_count": 6,
   "metadata": {
    "collapsed": false
   },
   "outputs": [],
   "source": [
    "gasspot = custom_read_csv('gasspot.csv').drop('Unnamed: 3', axis=1).dropna()\n",
    "stocks = custom_read_csv('stocks.csv').dropna()\n",
    "predictors_raw = pd.concat([gasspot.gas_spot_gulf, stocks.stocks_gasoline], axis=1)\n",
    "\n",
    "# the predictors are relaesed on Friday, add 3 days to align\n",
    "predictors_raw.index = predictors_raw.index + pd.DateOffset(days=3)\n",
    "\n",
    "# include the lagged series by 1,2,3 weeks to capture autocorrelation\n",
    "predictors_raw = pd.concat([predictors_raw] + \\\n",
    "                           [price.national.shift(i).rename('retail gas lag %d week'%i) for i in range(1,4)], \n",
    "                           axis=1)\n",
    "\n",
    "# take log return for all predictors\n",
    "predictors = (predictors_raw - predictors_raw.shift(1)) / predictors_raw.shift(1)"
   ]
  },
  {
   "cell_type": "markdown",
   "metadata": {
    "collapsed": true
   },
   "source": [
    "## Logistic Regression Path"
   ]
  },
  {
   "cell_type": "code",
   "execution_count": 7,
   "metadata": {
    "collapsed": false
   },
   "outputs": [
    {
     "data": {
      "image/png": "[encoded data removed]",
      "text/plain": [
       "<matplotlib.figure.Figure at 0x1060c5a90>"
      ]
     },
     "metadata": {},
     "output_type": "display_data"
    }
   ],
   "source": [
    "y1 = up.loc[trainingdates].values\n",
    "X1 = predictors.loc[trainingdates].values\n",
    "cs = np.exp(np.arange(-50,50,1))\n",
    "coefs, Cs, _ = logistic_regression_path(X1, y1, Cs=cs)\n",
    "\n",
    "plt.figure(figsize=(15,6))\n",
    "plt.plot(np.log(Cs), [x[:-1] for x in coefs])\n",
    "plt.xlabel('log(C)')\n",
    "plt.ylabel('Coefficients')\n",
    "plt.title('Logistic Regression Path')\n",
    "plt.legend(predictors.columns)\n",
    "plt.show()"
   ]
  },
  {
   "cell_type": "markdown",
   "metadata": {},
   "source": [
    "##  l2 Regularization Parameter"
   ]
  },
  {
   "cell_type": "markdown",
   "metadata": {},
   "source": [
    "Search for the best l2 regularization coefficient."
   ]
  },
  {
   "cell_type": "markdown",
   "metadata": {},
   "source": [
    "Devide the training set into two halves randomly. \n",
    "\n",
    "For each candidate regularization parameter, \n",
    "* fit logistic regression model to the first half of training set\n",
    "* record the prediction accuracy on the second half of the training set \n",
    "\n",
    "Pick the regularization parameter with highest accuracy."
   ]
  },
  {
   "cell_type": "code",
   "execution_count": 8,
   "metadata": {
    "collapsed": true
   },
   "outputs": [],
   "source": [
    "training1 = trainingdates[np.random.permutation(len(trainingdates))[:len(trainingdates)/2]]\n",
    "training2 = trainingdates[np.random.permutation(len(trainingdates))[len(trainingdates)/2:]]"
   ]
  },
  {
   "cell_type": "code",
   "execution_count": 9,
   "metadata": {
    "collapsed": false
   },
   "outputs": [
    {
     "data": {
      "image/png": "[encoded data removed]",
      "text/plain": [
       "<matplotlib.figure.Figure at 0x1119101d0>"
      ]
     },
     "metadata": {},
     "output_type": "display_data"
    },
    {
     "name": "stdout",
     "output_type": "stream",
     "text": [
      "Regularization parameter with highest accuracy: 113\n"
     ]
    }
   ],
   "source": [
    "y1 = up.loc[training1].values\n",
    "X1 = predictors.loc[training1].values\n",
    "y2 = up.loc[training2].values\n",
    "X2 = predictors.loc[training2].values\n",
    "\n",
    "Cs = np.arange(1,300)\n",
    "score = np.zeros(len(Cs))\n",
    "for i, C in enumerate(Cs):\n",
    "    model = LogisticRegression(C=C).fit(X1, y1)\n",
    "    score[i] = model.score(X2, y2)\n",
    "    \n",
    "plt.figure(figsize=(15,6))\n",
    "plt.plot(Cs, score)\n",
    "plt.xlabel('C')\n",
    "plt.ylabel('Accuracy')\n",
    "plt.title('Accuracy vs Regularization Parameter')\n",
    "plt.show()\n",
    "\n",
    "print 'Regularization parameter with highest accuracy: %.0f' % Cs[np.argmax(score)]"
   ]
  },
  {
   "cell_type": "markdown",
   "metadata": {},
   "source": [
    "According to the above result, choose **81** as the regularization parameter for logistics regression"
   ]
  },
  {
   "cell_type": "markdown",
   "metadata": {
    "collapsed": false
   },
   "source": [
    "## Test in Cross-Validation Period"
   ]
  },
  {
   "cell_type": "markdown",
   "metadata": {},
   "source": [
    "### Metric: Precision and Recall of Predicted Price Move Directions"
   ]
  },
  {
   "cell_type": "code",
   "execution_count": 10,
   "metadata": {
    "collapsed": true
   },
   "outputs": [],
   "source": [
    "cvdates = np.intersect1d(price.index, pd.date_range('2011-01-01','2016-12-31'))"
   ]
  },
  {
   "cell_type": "code",
   "execution_count": 11,
   "metadata": {
    "collapsed": false
   },
   "outputs": [],
   "source": [
    "y_training = up.loc[trainingdates].values\n",
    "X_training = predictors.loc[trainingdates].values\n",
    "model = LogisticRegression(C=81).fit(X_training, y_training)\n",
    "\n",
    "y_cv = up.loc[cvdates].values\n",
    "X_cv = predictors.loc[cvdates].values\n",
    "prediction = model.predict(X_cv)"
   ]
  },
  {
   "cell_type": "markdown",
   "metadata": {},
   "source": [
    "#### Precision"
   ]
  },
  {
   "cell_type": "code",
   "execution_count": 12,
   "metadata": {
    "collapsed": false,
    "scrolled": true
   },
   "outputs": [
    {
     "data": {
      "text/plain": [
       "0.9083333333333333"
      ]
     },
     "execution_count": 12,
     "metadata": {},
     "output_type": "execute_result"
    }
   ],
   "source": [
    "1.0 * np.logical_and(y_cv, prediction).sum() / prediction.sum()"
   ]
  },
  {
   "cell_type": "markdown",
   "metadata": {},
   "source": [
    "#### Recall"
   ]
  },
  {
   "cell_type": "code",
   "execution_count": 13,
   "metadata": {
    "collapsed": false
   },
   "outputs": [
    {
     "data": {
      "text/plain": [
       "0.7730496453900709"
      ]
     },
     "execution_count": 13,
     "metadata": {},
     "output_type": "execute_result"
    }
   ],
   "source": [
    "1.0 * np.logical_and(y_cv, prediction).sum() / y_cv.sum()"
   ]
  },
  {
   "cell_type": "markdown",
   "metadata": {},
   "source": [
    "#### Accuracy"
   ]
  },
  {
   "cell_type": "code",
   "execution_count": 14,
   "metadata": {
    "collapsed": false
   },
   "outputs": [
    {
     "data": {
      "text/plain": [
       "0.8626198083067093"
      ]
     },
     "execution_count": 14,
     "metadata": {},
     "output_type": "execute_result"
    }
   ],
   "source": [
    "1.0 * (y_cv == prediction).sum() / len(prediction)"
   ]
  },
  {
   "cell_type": "markdown",
   "metadata": {
    "collapsed": true
   },
   "source": [
    "## Comparison to Multivariate Rolling Regression and ARIMA"
   ]
  },
  {
   "cell_type": "markdown",
   "metadata": {},
   "source": [
    "* Performance in Cross-Validation \n",
    "\n",
    "| Model                            | Precision   | Recall     | Accuracy  |\n",
    "| -------------                    |:-----------:|:----------:|:---------:|\n",
    "| Multivariate Rolling Regression  | 66%         |   78%      | 72%       |\n",
    "| ARIMA                            | 68%         |   71%      | 72%       |\n",
    "| Logistic Regression              | 91%         |   77%      | 86%       |"
   ]
  },
  {
   "cell_type": "markdown",
   "metadata": {},
   "source": [
    "Logistic regression has significantly higher precision, recall, and accuracy. For classifying up/down price moves, logistic regression is the best model."
   ]
  },
  {
   "cell_type": "code",
   "execution_count": null,
   "metadata": {
    "collapsed": true
   },
   "outputs": [],
   "source": []
  }
 ],
 "metadata": {
  "kernelspec": {
   "display_name": "Python 2",
   "language": "python",
   "name": "python2"
  },
  "language_info": {
   "codemirror_mode": {
    "name": "ipython",
    "version": 2
   },
   "file_extension": ".py",
   "mimetype": "text/x-python",
   "name": "python",
   "nbconvert_exporter": "python",
   "pygments_lexer": "ipython2",
   "version": "2.7.13"
  }
 },
 "nbformat": 4,
 "nbformat_minor": 2
}
