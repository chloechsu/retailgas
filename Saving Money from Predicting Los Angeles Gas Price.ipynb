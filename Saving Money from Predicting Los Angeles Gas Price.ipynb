{
 "cells": [
  {
   "cell_type": "markdown",
   "metadata": {},
   "source": [
    "# Saving Money from Predicting Los Angeles Gas Price\n",
    "\n",
    "### Table of Contents\n",
    "* Set-up\n",
    "* Correlation between National and Local Gas Price Move Direction\n",
    "* Logistic Regression Model for Local Price Move\n",
    "  * Features\n",
    "  * Logistic Regression Path\n",
    "  * l2 Regularization Parameter\n",
    "* Test in Cross-Validation Period\n",
    "  + Prediction\n",
    "  + Recall\n",
    "  + Accuracy\n",
    "* How Much Money Can I Save?\n",
    "  + Is it even possible to do much better?"
   ]
  },
  {
   "cell_type": "markdown",
   "metadata": {},
   "source": [
    "## Set-up"
   ]
  },
  {
   "cell_type": "code",
   "execution_count": 1,
   "metadata": {
    "collapsed": false
   },
   "outputs": [
    {
     "name": "stderr",
     "output_type": "stream",
     "text": [
      "/Users/ChingYunH/anaconda/lib/python2.7/site-packages/statsmodels/compat/pandas.py:56: FutureWarning: The pandas.core.datetools module is deprecated and will be removed in a future version. Please use the pandas.tseries module instead.\n",
      "  from pandas.core import datetools\n"
     ]
    }
   ],
   "source": [
    "import pandas as pd\n",
    "import numpy as np\n",
    "import seaborn as sns\n",
    "import matplotlib\n",
    "import matplotlib.pyplot as plt\n",
    "from statsmodels.tsa.stattools import adfuller, acf, pacf\n",
    "from sklearn.linear_model import logistic_regression_path, LogisticRegression\n",
    "from sklearn.preprocessing import normalize\n",
    "from sklearn.svm import l1_min_c\n",
    "%matplotlib inline"
   ]
  },
  {
   "cell_type": "code",
   "execution_count": 2,
   "metadata": {
    "collapsed": true
   },
   "outputs": [],
   "source": [
    "def custom_read_csv(filename):\n",
    "    df = pd.read_csv(filename)\n",
    "    df['date'] = pd.to_datetime(df['date'])\n",
    "    return df.set_index('date')"
   ]
  },
  {
   "cell_type": "markdown",
   "metadata": {},
   "source": [
    "Read retail gas prices from csv."
   ]
  },
  {
   "cell_type": "code",
   "execution_count": 3,
   "metadata": {
    "collapsed": true
   },
   "outputs": [],
   "source": [
    "# note that all prices are released on Monday, dayofweek = 0\n",
    "national_price = custom_read_csv('national.csv').dropna()\n",
    "state_price = custom_read_csv('state.csv')\n",
    "state_price = state_price.drop('Unnamed: 10', axis=1).dropna()\n",
    "city_price = custom_read_csv('city.csv').dropna()\n",
    "price = pd.concat([national_price, state_price, city_price], axis=1)"
   ]
  },
  {
   "cell_type": "markdown",
   "metadata": {},
   "source": [
    "The training period is 2003 - 2010. (Local price data are only available after 2003.)\n",
    "\n",
    "Save 2011 - 2016 for cross-validation."
   ]
  },
  {
   "cell_type": "code",
   "execution_count": 4,
   "metadata": {
    "collapsed": true
   },
   "outputs": [],
   "source": [
    "trainingdates = np.intersect1d(price.index, pd.date_range('2003-06-02','2010-12-31'))"
   ]
  },
  {
   "cell_type": "markdown",
   "metadata": {},
   "source": [
    "## Correlation between National and Local Gas Price Move Direction"
   ]
  },
  {
   "cell_type": "code",
   "execution_count": 5,
   "metadata": {
    "collapsed": true
   },
   "outputs": [],
   "source": [
    "up = (price - price.shift(1)).dropna() > 0"
   ]
  },
  {
   "cell_type": "code",
   "execution_count": 6,
   "metadata": {
    "collapsed": false
   },
   "outputs": [
    {
     "data": {
      "text/plain": [
       "national     1.000000\n",
       "tx           0.811964\n",
       "houston      0.734241\n",
       "fl           0.702703\n",
       "miami        0.683383\n",
       "ma           0.682867\n",
       "boston       0.672109\n",
       "chicago      0.650741\n",
       "nyc          0.634477\n",
       "ny           0.615660\n",
       "co           0.613564\n",
       "mn           0.580886\n",
       "denver       0.575400\n",
       "la           0.573159\n",
       "ca           0.570531\n",
       "wa           0.567862\n",
       "cleveland    0.539205\n",
       "oh           0.536356\n",
       "seattle      0.530120\n",
       "sf           0.528574\n",
       "Name: correlation, dtype: float64"
      ]
     },
     "execution_count": 6,
     "metadata": {},
     "output_type": "execute_result"
    }
   ],
   "source": [
    "pd.Series(index=up.columns, data=np.corrcoef(up, rowvar=False)[0], name='correlation').sort_values(ascending=False)"
   ]
  },
  {
   "cell_type": "markdown",
   "metadata": {},
   "source": [
    "Local gas price moves could be very different from national gas price, such as in SF or in LA. \n",
    "\n",
    "Since I'm near Los Angeles, I'll study Los Angeles and the California state as a detailed example."
   ]
  },
  {
   "cell_type": "code",
   "execution_count": 7,
   "metadata": {
    "collapsed": true
   },
   "outputs": [],
   "source": [
    "correls = up.rolling(window=52*2).corr().dropna().unstack()"
   ]
  },
  {
   "cell_type": "code",
   "execution_count": 8,
   "metadata": {
    "collapsed": false
   },
   "outputs": [
    {
     "data": {
      "image/png": "[encoded data removed]",
      "text/plain": [
       "<matplotlib.figure.Figure at 0x106565490>"
      ]
     },
     "metadata": {},
     "output_type": "display_data"
    }
   ],
   "source": [
    "correls['la'][['national', 'ca', 'sf']].loc[trainingdates[52*2:]].plot(\n",
    "    figsize=(15,6), title='2-year Rolling Correlation with Los Angeles Retail Gas Log Return')\n",
    "plt.show()"
   ]
  },
  {
   "cell_type": "markdown",
   "metadata": {},
   "source": [
    "The local retail gas price in LA is highly correlated to price in San Francisco and the state price in California, but not as much with national price."
   ]
  },
  {
   "cell_type": "markdown",
   "metadata": {},
   "source": [
    "## Logistic Regression Model for Local Price Move"
   ]
  },
  {
   "cell_type": "markdown",
   "metadata": {},
   "source": [
    "Therefore, it's better to fit a new logistic regression model to LA local price move, rather than reusing the national model. \n",
    "\n",
    "The modeling procedure is similar to the national model."
   ]
  },
  {
   "cell_type": "markdown",
   "metadata": {},
   "source": [
    "### Features\n",
    "\n",
    "We use the same features as in the national model. The features are **log returns** of the following time series:\n",
    "\n",
    "* Gulf Coast gasoline spot price\n",
    "* Gasoline stocks\n",
    "* Retail gas price lagged by 1,2,3 weeks\n",
    "\n",
    "All features are weekly time series."
   ]
  },
  {
   "cell_type": "code",
   "execution_count": 9,
   "metadata": {
    "collapsed": false
   },
   "outputs": [],
   "source": [
    "gasspot = custom_read_csv('gasspot.csv').drop('Unnamed: 3', axis=1).dropna()\n",
    "stocks = custom_read_csv('stocks.csv').dropna()\n",
    "predictors_raw = pd.concat([gasspot.gas_spot_gulf, stocks.stocks_gasoline], axis=1)\n",
    "\n",
    "# the predictors are relaesed on Friday, add 3 days to align\n",
    "predictors_raw.index = predictors_raw.index + pd.DateOffset(days=3)\n",
    "\n",
    "# include the lagged series by 1,2,3 weeks to capture autocorrelation\n",
    "predictors_raw = pd.concat([predictors_raw] + \\\n",
    "                           [price.national.shift(i).rename('retail gas lag %d week'%i) for i in range(1,4)], \n",
    "                           axis=1)\n",
    "\n",
    "# take log return for all predictors\n",
    "predictors = (predictors_raw - predictors_raw.shift(1)) / predictors_raw.shift(1)"
   ]
  },
  {
   "cell_type": "markdown",
   "metadata": {
    "collapsed": true
   },
   "source": [
    "### Logistic Regression Path"
   ]
  },
  {
   "cell_type": "code",
   "execution_count": 10,
   "metadata": {
    "collapsed": false
   },
   "outputs": [
    {
     "data": {
      "image/png": "[encoded data removed]",
      "text/plain": [
       "<matplotlib.figure.Figure at 0x113492850>"
      ]
     },
     "metadata": {},
     "output_type": "display_data"
    }
   ],
   "source": [
    "y1 = up['la'].loc[trainingdates].values\n",
    "X1 = predictors.loc[trainingdates].values\n",
    "cs = np.exp(np.arange(-50,50,1))\n",
    "coefs, Cs, _ = logistic_regression_path(X1, y1, Cs=cs)\n",
    "\n",
    "plt.figure(figsize=(15,6))\n",
    "plt.plot(np.log(Cs), [x[:-1] for x in coefs])\n",
    "plt.xlabel('log(C)')\n",
    "plt.ylabel('Coefficients')\n",
    "plt.title('Logistic Regression Path')\n",
    "plt.legend(predictors.columns)\n",
    "plt.show()"
   ]
  },
  {
   "cell_type": "markdown",
   "metadata": {},
   "source": [
    "###  l2 Regularization Parameter"
   ]
  },
  {
   "cell_type": "markdown",
   "metadata": {},
   "source": [
    "Search for the best l2 regularization coefficient."
   ]
  },
  {
   "cell_type": "markdown",
   "metadata": {},
   "source": [
    "Devide the training set into two halves randomly. \n",
    "\n",
    "For each candidate regularization parameter, \n",
    "* fit logistic regression model to the first half of training set\n",
    "* record the prediction accuracy on the second half of the training set \n",
    "\n",
    "Pick the regularization parameter with highest accuracy."
   ]
  },
  {
   "cell_type": "code",
   "execution_count": 11,
   "metadata": {
    "collapsed": true
   },
   "outputs": [],
   "source": [
    "training1 = trainingdates[np.random.permutation(len(trainingdates))[:len(trainingdates)/2]]\n",
    "training2 = trainingdates[np.random.permutation(len(trainingdates))[len(trainingdates)/2:]]"
   ]
  },
  {
   "cell_type": "code",
   "execution_count": 12,
   "metadata": {
    "collapsed": false
   },
   "outputs": [
    {
     "data": {
      "image/png": "[encoded data removed]",
      "text/plain": [
       "<matplotlib.figure.Figure at 0x106561b10>"
      ]
     },
     "metadata": {},
     "output_type": "display_data"
    },
    {
     "name": "stdout",
     "output_type": "stream",
     "text": [
      "Regularization parameter with highest accuracy: 285\n"
     ]
    }
   ],
   "source": [
    "y1 = up['la'].loc[training1].values\n",
    "X1 = predictors.loc[training1].values\n",
    "y2 = up['la'].loc[training2].values\n",
    "X2 = predictors.loc[training2].values\n",
    "\n",
    "Cs = np.arange(1,300)\n",
    "score = np.zeros(len(Cs))\n",
    "for i, C in enumerate(Cs):\n",
    "    model = LogisticRegression(C=C).fit(X1, y1)\n",
    "    score[i] = model.score(X2, y2)\n",
    "    \n",
    "plt.figure(figsize=(15,6))\n",
    "plt.plot(Cs, score)\n",
    "plt.xlabel('C')\n",
    "plt.ylabel('Accuracy')\n",
    "plt.title('Accuracy vs Regularization Parameter')\n",
    "plt.show()\n",
    "\n",
    "print 'Regularization parameter with highest accuracy: %.0f' % Cs[np.argmax(score)]"
   ]
  },
  {
   "cell_type": "markdown",
   "metadata": {},
   "source": [
    "According to the above result, choose **93** as the regularization parameter for logistics regression"
   ]
  },
  {
   "cell_type": "markdown",
   "metadata": {
    "collapsed": false
   },
   "source": [
    "## Test in Cross-Validation Period"
   ]
  },
  {
   "cell_type": "markdown",
   "metadata": {},
   "source": [
    "### Metric: Precision and Recall of Predicted Price Move Directions"
   ]
  },
  {
   "cell_type": "code",
   "execution_count": 13,
   "metadata": {
    "collapsed": true
   },
   "outputs": [],
   "source": [
    "cvdates = np.intersect1d(price.index, pd.date_range('2011-01-01','2016-12-31'))"
   ]
  },
  {
   "cell_type": "code",
   "execution_count": 14,
   "metadata": {
    "collapsed": false
   },
   "outputs": [],
   "source": [
    "y_training = up['la'].loc[trainingdates].values\n",
    "X_training = predictors.loc[trainingdates].values\n",
    "model = LogisticRegression(C=81).fit(X_training, y_training)\n",
    "\n",
    "y_cv = up['la'].loc[cvdates].values\n",
    "X_cv = predictors.loc[cvdates].values\n",
    "prediction = model.predict(X_cv)"
   ]
  },
  {
   "cell_type": "markdown",
   "metadata": {},
   "source": [
    "#### Precision"
   ]
  },
  {
   "cell_type": "code",
   "execution_count": 15,
   "metadata": {
    "collapsed": false,
    "scrolled": true
   },
   "outputs": [
    {
     "data": {
      "text/plain": [
       "0.7745098039215687"
      ]
     },
     "execution_count": 15,
     "metadata": {},
     "output_type": "execute_result"
    }
   ],
   "source": [
    "1.0 * np.logical_and(y_cv, prediction).sum() / prediction.sum()"
   ]
  },
  {
   "cell_type": "markdown",
   "metadata": {},
   "source": [
    "#### Recall"
   ]
  },
  {
   "cell_type": "code",
   "execution_count": 16,
   "metadata": {
    "collapsed": false
   },
   "outputs": [
    {
     "data": {
      "text/plain": [
       "0.5939849624060151"
      ]
     },
     "execution_count": 16,
     "metadata": {},
     "output_type": "execute_result"
    }
   ],
   "source": [
    "1.0 * np.logical_and(y_cv, prediction).sum() / y_cv.sum()"
   ]
  },
  {
   "cell_type": "markdown",
   "metadata": {},
   "source": [
    "#### Accuracy"
   ]
  },
  {
   "cell_type": "code",
   "execution_count": 17,
   "metadata": {
    "collapsed": false
   },
   "outputs": [
    {
     "data": {
      "text/plain": [
       "0.7539936102236422"
      ]
     },
     "execution_count": 17,
     "metadata": {},
     "output_type": "execute_result"
    }
   ],
   "source": [
    "1.0 * (y_cv == prediction).sum() / len(prediction)"
   ]
  },
  {
   "cell_type": "markdown",
   "metadata": {
    "collapsed": true
   },
   "source": [
    "## How much money can I save?"
   ]
  },
  {
   "cell_type": "markdown",
   "metadata": {},
   "source": [
    "The average fuel consumpersion per car per year in the US is roughly estimated to be 300 - 400 gallons, so that's about 6 gallons per week. \n",
    "\n",
    "My family's Honda Odyssey holds about 20 gallons. Let's say it's 18 gallons, and consider the bottom 2 gallons as emergency gas.\n",
    "\n",
    "Consider the following scenario: \n",
    "\n",
    "Suppose I have 8 gallons left in the tank (enough for another week), and I know the price will go up/down next week.\n",
    "* If the gas price goes up, I should fill the tank now.\n",
    "* If the gas price goes down, I should wait until next week.\n",
    "\n",
    "With this strategy, a good prediction of price move direction can save me some money. (The baseline comparison is filling the tank once every 3 weeks.)"
   ]
  },
  {
   "cell_type": "markdown",
   "metadata": {},
   "source": [
    "Let's see how much money I can theoretically save in 2011 - 2016 (the cross validation period)."
   ]
  },
  {
   "cell_type": "code",
   "execution_count": 18,
   "metadata": {
    "collapsed": false
   },
   "outputs": [
    {
     "data": {
      "text/plain": [
       "6851.988"
      ]
     },
     "execution_count": 18,
     "metadata": {},
     "output_type": "execute_result"
    }
   ],
   "source": [
    "# Baseline comparison:\n",
    "cost = price.la[cvdates[np.arange(len(cvdates)) % 3 == 0]].sum() * (6 * 3)\n",
    "cost"
   ]
  },
  {
   "cell_type": "code",
   "execution_count": 19,
   "metadata": {
    "collapsed": false
   },
   "outputs": [],
   "source": [
    "# Filling gas tank based on prediction:\n",
    "remaining = 0\n",
    "cost = 0\n",
    "weekly_gas = 6\n",
    "tank_size = 18\n",
    "\n",
    "y_training = up['la'].loc[trainingdates].values\n",
    "X_training = predictors.loc[trainingdates].values\n",
    "model = LogisticRegression(C=81).fit(X_training, y_training)\n",
    "X_cv = predictors.loc[cvdates].values\n",
    "prediction = pd.Series(index=cvdates, data=model.predict(X_cv))\n",
    "\n",
    "for i,date in enumerate(cvdates):\n",
    "    if i != len(cvdates)-1 and prediction.loc[cvdates[i+1]]:\n",
    "        add = tank_size - remaining\n",
    "    else:\n",
    "        add = max(0, weekly_gas - remaining)\n",
    "    remaining += add\n",
    "    cost += add * price.la[date]\n",
    "    \n",
    "    remaining -= weekly_gas\n",
    "    \n",
    "    assert remaining >= 0\n",
    "    assert remaining <= tank_size"
   ]
  },
  {
   "cell_type": "code",
   "execution_count": 20,
   "metadata": {
    "collapsed": false
   },
   "outputs": [
    {
     "data": {
      "text/plain": [
       "(6770.6339999999973, 6)"
      ]
     },
     "execution_count": 20,
     "metadata": {},
     "output_type": "execute_result"
    }
   ],
   "source": [
    "cost, remaining"
   ]
  },
  {
   "cell_type": "markdown",
   "metadata": {},
   "source": [
    "Naive strategy:\n",
    "* Fill the tank once every 3 weeks.\n",
    "\n",
    "With naive strategy, I spend about $6852 on gas in 2011-2016. At the end I have 12 gallons left in the tank.\n",
    "\n",
    "Smarter strategy:\n",
    "* If the price will go up, fill the full tank\n",
    "* If the price will go down, only fill to have the minimum amount for another week\n",
    "\n",
    "With smarter strategy, I spend $6770 in 2011-2016, and have 6 gallons at the end.\n",
    "\n",
    "After accounting for the 6-gallon difference at the end, I save\n",
    "$$($6852 - 6 * $2.77) - $6770 \\approx $65$$\n",
    "\n",
    "Hmm.. That's only 1% of the gas expenditure, perhaps not worth 6 years' planning."
   ]
  },
  {
   "cell_type": "markdown",
   "metadata": {},
   "source": [
    "### Is it even possible to do much better?"
   ]
  },
  {
   "cell_type": "markdown",
   "metadata": {},
   "source": [
    "Theoretically, suppose I am a prophet and I somehow know the actual price move. Would I be able to save much more?"
   ]
  },
  {
   "cell_type": "code",
   "execution_count": 21,
   "metadata": {
    "collapsed": false
   },
   "outputs": [],
   "source": [
    "# Filling gas tank based on future price information (cheating!):\n",
    "remaining = 0\n",
    "cost = 0\n",
    "weekly_gas = 6\n",
    "tank_size = 18\n",
    "\n",
    "y_training = up['la'].loc[trainingdates].values\n",
    "X_training = predictors.loc[trainingdates].values\n",
    "model = LogisticRegression(C=81).fit(X_training, y_training)\n",
    "X_cv = predictors.loc[cvdates].values\n",
    "prediction = pd.Series(index=cvdates, data=model.predict(X_cv))\n",
    "\n",
    "for i,date in enumerate(cvdates):\n",
    "    if i != len(cvdates)-1 and up.la.loc[cvdates[i+1]]:\n",
    "        add = tank_size - remaining\n",
    "    else:\n",
    "        add = max(0, weekly_gas - remaining)\n",
    "    remaining += add\n",
    "    cost += add * price.la[date]\n",
    "    \n",
    "    remaining -= weekly_gas\n",
    "    \n",
    "    assert remaining >= 0\n",
    "    assert remaining <= tank_size"
   ]
  },
  {
   "cell_type": "code",
   "execution_count": 22,
   "metadata": {
    "collapsed": false
   },
   "outputs": [
    {
     "data": {
      "text/plain": [
       "(6716.3999999999987, 6)"
      ]
     },
     "execution_count": 22,
     "metadata": {},
     "output_type": "execute_result"
    }
   ],
   "source": [
    "cost, remaining"
   ]
  },
  {
   "cell_type": "markdown",
   "metadata": {},
   "source": [
    "Even if I know the future price, I would only be able save \\$54 more. \n",
    "\n",
    "**This means no matter how good my prediction is, I would save at most \\$65 + \\$54 = \\$119 in 6 years.**\n",
    "\n",
    "Moral of the story? Perhaps I should have found this out first before doing all the prediction models."
   ]
  },
  {
   "cell_type": "code",
   "execution_count": null,
   "metadata": {
    "collapsed": true
   },
   "outputs": [],
   "source": []
  }
 ],
 "metadata": {
  "kernelspec": {
   "display_name": "Python 2",
   "language": "python",
   "name": "python2"
  },
  "language_info": {
   "codemirror_mode": {
    "name": "ipython",
    "version": 2
   },
   "file_extension": ".py",
   "mimetype": "text/x-python",
   "name": "python",
   "nbconvert_exporter": "python",
   "pygments_lexer": "ipython2",
   "version": "2.7.13"
  }
 },
 "nbformat": 4,
 "nbformat_minor": 2
}
